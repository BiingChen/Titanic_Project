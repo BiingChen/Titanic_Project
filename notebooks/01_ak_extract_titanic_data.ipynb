{
 "cells": [
  {
   "cell_type": "markdown",
   "metadata": {},
   "source": [
    "# Extracting Titanic Disaster Data From Kaggle"
   ]
  },
  {
   "cell_type": "code",
   "execution_count": 1,
   "metadata": {},
   "outputs": [
    {
     "name": "stdout",
     "output_type": "stream",
     "text": [
      "Requirement already satisfied: python-dotenv in /Users/yibingchen/anaconda3/lib/python3.6/site-packages (0.8.2)\r\n"
     ]
    }
   ],
   "source": [
    "!pip install python-dotenv"
   ]
  },
  {
   "cell_type": "code",
   "execution_count": 2,
   "metadata": {},
   "outputs": [],
   "source": [
    "from dotenv import load_dotenv, find_dotenv"
   ]
  },
  {
   "cell_type": "code",
   "execution_count": 3,
   "metadata": {},
   "outputs": [
    {
     "data": {
      "text/plain": [
       "True"
      ]
     },
     "execution_count": 3,
     "metadata": {},
     "output_type": "execute_result"
    }
   ],
   "source": [
    "# Find the .env file through brute force\n",
    "dotenv_path = find_dotenv()\n",
    "load_dotenv(dotenv_path)"
   ]
  },
  {
   "cell_type": "code",
   "execution_count": 4,
   "metadata": {},
   "outputs": [
    {
     "name": "stdout",
     "output_type": "stream",
     "text": [
      "bingchen\n",
      "bing1234kaggle\n"
     ]
    }
   ],
   "source": [
    "import os\n",
    "KAGGLE_USERNAME = os.environ.get(\"KAGGLE_USERNAME\")\n",
    "KAGGLE_PASSWORD = os.environ.get(\"KAGGLE_PASSWORD\")\n",
    "print(KAGGLE_USERNAME)\n",
    "print(KAGGLE_PASSWORD)"
   ]
  },
  {
   "cell_type": "code",
   "execution_count": 5,
   "metadata": {},
   "outputs": [],
   "source": [
    "import requests\n",
    "from requests import session\n",
    "import os\n",
    "from dotenv import load_dotenv, find_dotenv"
   ]
  },
  {
   "cell_type": "code",
   "execution_count": 6,
   "metadata": {},
   "outputs": [],
   "source": [
    "payload = {\n",
    "    'action':'login',\n",
    "    'username':os.environ.get(\"KAGGLE_USERNAME\"),\n",
    "    'password':os.environ.get(\"KAGGLE_PASSWORD\")\n",
    "}\n",
    "\n",
    "url = \"https://www.kaggle.com/c/titanic/download/train.csv\"\n",
    "\n",
    "with session() as c:\n",
    "    c.get('https://www.kaggle.com/account/login')\n",
    "    c.post('https://www.kaggle.com/account/login',data=payload)\n",
    "    response = c.get(url)\n",
    "    #print(response.text)\n",
    "\n"
   ]
  },
  {
   "cell_type": "code",
   "execution_count": 7,
   "metadata": {},
   "outputs": [],
   "source": [
    "from requests import session\n",
    "\n",
    "payload = {\n",
    "    'action':'login',\n",
    "    'username':os.environ.get(\"KAGGLE_USERNAME\"),\n",
    "    'password':os.environ.get(\"KAGGLE_PASSWORD\")\n",
    "}\n",
    "\n",
    "def extract_data(url, file_path):\n",
    "    with session() as c:\n",
    "        c.post('https://www.kaggle.com/account/login',data=payload)\n",
    "        \n",
    "        with open(file_path, 'wb') as handle:\n",
    "            response = c.get(url, stream = True)\n",
    "            for block in response.iter_content(1024):\n",
    "                handle.write(block)"
   ]
  },
  {
   "cell_type": "code",
   "execution_count": 8,
   "metadata": {},
   "outputs": [],
   "source": [
    "train_url = \"https://www.kaggle.com/c/titanic/download/train.csv\"\n",
    "test_url = \"https://www.kaggle.com/c/titanic/download/test.csv\"\n",
    "\n",
    "raw_data_path = os.path.join(os.path.pardir, 'data','raw')\n",
    "train_data_path = os.path.join(raw_data_path, 'train.csv')\n",
    "test_data_path = os.path.join(raw_data_path, 'test.csv')\n",
    "\n",
    "extract_data(train_url, train_data_path)\n",
    "extract_data(test_url, test_data_path)\n"
   ]
  },
  {
   "cell_type": "code",
   "execution_count": 9,
   "metadata": {},
   "outputs": [
    {
     "name": "stdout",
     "output_type": "stream",
     "text": [
      "total 48\r\n",
      "-rw-r--r--  1 yibingchen  staff  8220 Jul 20 17:53 test.csv\r\n",
      "-rw-r--r--  1 yibingchen  staff  8220 Jul 20 17:53 train.csv\r\n"
     ]
    }
   ],
   "source": [
    "!ls -l ../data/raw"
   ]
  },
  {
   "cell_type": "code",
   "execution_count": 10,
   "metadata": {},
   "outputs": [
    {
     "name": "stdout",
     "output_type": "stream",
     "text": [
      "test.csv  train.csv\r\n"
     ]
    }
   ],
   "source": [
    "!ls ../data/raw"
   ]
  },
  {
   "cell_type": "markdown",
   "metadata": {},
   "source": [
    "### Build the file script"
   ]
  },
  {
   "cell_type": "code",
   "execution_count": 11,
   "metadata": {},
   "outputs": [],
   "source": [
    "get_raw_data_file_script = os.path.join(os.path.pardir, 'src','data','get_raw_data.py')"
   ]
  },
  {
   "cell_type": "code",
   "execution_count": 12,
   "metadata": {},
   "outputs": [
    {
     "name": "stdout",
     "output_type": "stream",
     "text": [
      "Overwriting ../src/data/get_raw_data.py\n"
     ]
    }
   ],
   "source": [
    "%%writefile $get_raw_data_file_script\n",
    "\n",
    "import os\n",
    "from dotenv import find_dotenv, load_dotenv\n",
    "from requests import session\n",
    "import logging\n",
    "\n",
    "payload = {\n",
    "    'action':'login',\n",
    "    'username':os.environ.get(\"KAGGLE_USERNAME\"),\n",
    "    'password':os.environ.get(\"KAGGLE_PASSWORD\")\n",
    "}\n",
    "\n",
    "def extract_data(url, file_path):\n",
    "    with session() as c:\n",
    "        c.post('https://www.kaggle.com/account/login',data=payload)\n",
    "        \n",
    "        with open(file_path, 'wb') as handle:\n",
    "            response = c.get(url, stream = True)\n",
    "            for block in response.iter_content(1024):\n",
    "                handle.write(block)\n",
    "                \n",
    "def main(project_dir):\n",
    "    '''\n",
    "    main method\n",
    "    '''\n",
    "    # get logger\n",
    "    logger = logging.getLogger(__name__)\n",
    "    logger.info('getting raw data')\n",
    "    \n",
    "    # urls\n",
    "    train_url = \"https://www.kaggle.com/c/titanic/download/train.csv\"\n",
    "    test_url = \"https://www.kaggle.com/c/titanic/download/test.csv\"\n",
    "    \n",
    "    # file paths\n",
    "    raw_data_path = os.path.join(os.path.pardir, 'data','raw')\n",
    "    train_data_path = os.path.join(raw_data_path, 'train.csv')\n",
    "    test_data_path = os.path.join(raw_data_path, 'test.csv')\n",
    "\n",
    "    # extract data\n",
    "    extract_data(train_url, train_data_path)\n",
    "    extract_data(test_url, test_data_path)\n",
    "    logger.info('downloading raw training and test data')\n",
    "    \n",
    "if __name__ == '__main__':\n",
    "    # getting root directory\n",
    "    project_dir = os.path.join(os.path.dirname(__file__), os.pardir, os.pardir)\n",
    "    \n",
    "    #skipping logger\n",
    "    log_fmt = '%(asctime)s - %(levelname)s - %(message)s'\n",
    "    logging.basicConfig(level=logging.INFO, format=log_fmt)\n",
    "    \n",
    "    #find .env \n",
    "    dotenv_path = find_dotenv()\n",
    "    load_dotenv(dotenv_path)\n",
    "    \n",
    "    # call the main\n",
    "    main(project_dir)"
   ]
  },
  {
   "cell_type": "code",
   "execution_count": 13,
   "metadata": {},
   "outputs": [
    {
     "data": {
      "text/plain": [
       "'../..'"
      ]
     },
     "execution_count": 13,
     "metadata": {},
     "output_type": "execute_result"
    }
   ],
   "source": [
    "os.path.dirname('01_ak_extract_titanic_data.ipynb')\n",
    "os.path.join(os.path.dirname('01_ak_extract_titanic_data.ipynb'), os.pardir, os.pardir)"
   ]
  },
  {
   "cell_type": "code",
   "execution_count": 14,
   "metadata": {},
   "outputs": [
    {
     "name": "stdout",
     "output_type": "stream",
     "text": [
      "2018-07-20 17:53:40,593 - INFO - getting raw data\n",
      "2018-07-20 17:53:41,949 - INFO - downloading raw training and test data\n"
     ]
    }
   ],
   "source": [
    "!python ../src/data/get_raw_data.py"
   ]
  },
  {
   "cell_type": "code",
   "execution_count": 15,
   "metadata": {},
   "outputs": [
    {
     "name": "stdout",
     "output_type": "stream",
     "text": [
      "2018-07-20 17:53:42,327 - INFO - getting raw data\n",
      "2018-07-20 17:53:43,498 - INFO - downloading raw training and test data\n"
     ]
    }
   ],
   "source": [
    "!python $get_raw_data_file_script"
   ]
  },
  {
   "cell_type": "code",
   "execution_count": 16,
   "metadata": {},
   "outputs": [
    {
     "data": {
      "text/plain": [
       "'../src/data/get_raw_data.py'"
      ]
     },
     "execution_count": 16,
     "metadata": {},
     "output_type": "execute_result"
    }
   ],
   "source": [
    "get_raw_data_file_script"
   ]
  },
  {
   "cell_type": "markdown",
   "metadata": {},
   "source": [
    "# Now my goal is to change this so I can use the API to download data"
   ]
  },
  {
   "cell_type": "code",
   "execution_count": 18,
   "metadata": {},
   "outputs": [
    {
     "name": "stdout",
     "output_type": "stream",
     "text": [
      "/bin/sh: kaggle: command not found\r\n"
     ]
    }
   ],
   "source": [
    "!kaggle -h"
   ]
  },
  {
   "cell_type": "code",
   "execution_count": 19,
   "metadata": {},
   "outputs": [
    {
     "name": "stdout",
     "output_type": "stream",
     "text": [
      "['', '/Users/yibingchen/anaconda3/lib/python36.zip', '/Users/yibingchen/anaconda3/lib/python3.6', '/Users/yibingchen/anaconda3/lib/python3.6/lib-dynload', '/Users/yibingchen/.local/lib/python3.6/site-packages', '/Users/yibingchen/anaconda3/lib/python3.6/site-packages', '/Users/yibingchen/anaconda3/lib/python3.6/site-packages/aeosa', '/Users/yibingchen/anaconda3/lib/python3.6/site-packages/IPython/extensions', '/Users/yibingchen/.ipython']\n"
     ]
    }
   ],
   "source": [
    "import sys\n",
    "print(sys.path)"
   ]
  },
  {
   "cell_type": "code",
   "execution_count": 22,
   "metadata": {},
   "outputs": [],
   "source": [
    "import kaggle"
   ]
  },
  {
   "cell_type": "code",
   "execution_count": 21,
   "metadata": {},
   "outputs": [
    {
     "data": {
      "text/plain": [
       "<kaggle.api.kaggle_api_extended.KaggleApi at 0x10baec400>"
      ]
     },
     "execution_count": 21,
     "metadata": {},
     "output_type": "execute_result"
    }
   ],
   "source": [
    "kaggle.ApiClient"
   ]
  },
  {
   "cell_type": "code",
   "execution_count": null,
   "metadata": {},
   "outputs": [],
   "source": [
    "kaggle.api.competition_download_files()"
   ]
  }
 ],
 "metadata": {
  "kernelspec": {
   "display_name": "Python 3",
   "language": "python",
   "name": "python3"
  },
  "language_info": {
   "codemirror_mode": {
    "name": "ipython",
    "version": 3
   },
   "file_extension": ".py",
   "mimetype": "text/x-python",
   "name": "python",
   "nbconvert_exporter": "python",
   "pygments_lexer": "ipython3",
   "version": "3.6.4"
  }
 },
 "nbformat": 4,
 "nbformat_minor": 2
}
