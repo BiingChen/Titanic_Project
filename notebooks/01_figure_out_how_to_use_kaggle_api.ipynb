{
 "cells": [
  {
   "cell_type": "markdown",
   "metadata": {},
   "source": [
    "# 01_try_to_figure_out_how_to_use_kaggle_api"
   ]
  },
  {
   "cell_type": "code",
   "execution_count": 1,
   "metadata": {},
   "outputs": [],
   "source": [
    "import kaggle"
   ]
  },
  {
   "cell_type": "code",
   "execution_count": 2,
   "metadata": {},
   "outputs": [
    {
     "name": "stdout",
     "output_type": "stream",
     "text": [
      "Help on package kaggle:\n",
      "\n",
      "NAME\n",
      "    kaggle\n",
      "\n",
      "DESCRIPTION\n",
      "    # Copyright 2018 Kaggle Inc\n",
      "    #\n",
      "    # Licensed under the Apache License, Version 2.0 (the \"License\");\n",
      "    # you may not use this file except in compliance with the License.\n",
      "    # You may obtain a copy of the License at\n",
      "    #\n",
      "    #      http://www.apache.org/licenses/LICENSE-2.0\n",
      "    #\n",
      "    # Unless required by applicable law or agreed to in writing, software\n",
      "    # distributed under the License is distributed on an \"AS IS\" BASIS,\n",
      "    # WITHOUT WARRANTIES OR CONDITIONS OF ANY KIND, either express or implied.\n",
      "    # See the License for the specific language governing permissions and\n",
      "    # limitations under the License.\n",
      "\n",
      "PACKAGE CONTENTS\n",
      "    api (package)\n",
      "    api_client\n",
      "    cli\n",
      "    configuration\n",
      "    models (package)\n",
      "    rest\n",
      "\n",
      "DATA\n",
      "    absolute_import = _Feature((2, 5, 0, 'alpha', 1), (3, 0, 0, 'alpha', 0...\n",
      "    api = <kaggle.api.kaggle_api_extended.KaggleApi object>\n",
      "\n",
      "FILE\n",
      "    /Users/yibingchen/.local/lib/python3.6/site-packages/kaggle/__init__.py\n",
      "\n",
      "\n"
     ]
    }
   ],
   "source": [
    "help(kaggle)"
   ]
  },
  {
   "cell_type": "code",
   "execution_count": 29,
   "metadata": {},
   "outputs": [
    {
     "name": "stdout",
     "output_type": "stream",
     "text": [
      "\u001b[34mhold\u001b[m\u001b[m      test.csv  train.csv\r\n"
     ]
    }
   ],
   "source": [
    "!ls ../data/raw/"
   ]
  },
  {
   "cell_type": "code",
   "execution_count": null,
   "metadata": {},
   "outputs": [],
   "source": [
    "/1 mv test.csv train.csv ../data/raw"
   ]
  },
  {
   "cell_type": "code",
   "execution_count": 24,
   "metadata": {},
   "outputs": [],
   "source": [
    "! mkdir ../data/raw/hold"
   ]
  },
  {
   "cell_type": "code",
   "execution_count": 26,
   "metadata": {},
   "outputs": [
    {
     "name": "stdout",
     "output_type": "stream",
     "text": [
      "LICENSE             \u001b[34mdocs\u001b[m\u001b[m                \u001b[34mreports\u001b[m\u001b[m             test_environment.py\r\n",
      "Makefile            \u001b[34mmodels\u001b[m\u001b[m              requirements.txt    tox.ini\r\n",
      "README.md           \u001b[34mnotebooks\u001b[m\u001b[m           setup.py\r\n",
      "\u001b[34mdata\u001b[m\u001b[m                \u001b[34mreferences\u001b[m\u001b[m          \u001b[34msrc\u001b[m\u001b[m\r\n"
     ]
    }
   ],
   "source": [
    "! ls .."
   ]
  },
  {
   "cell_type": "code",
   "execution_count": null,
   "metadata": {},
   "outputs": [],
   "source": []
  }
 ],
 "metadata": {
  "kernelspec": {
   "display_name": "Python 3",
   "language": "python",
   "name": "python3"
  },
  "language_info": {
   "codemirror_mode": {
    "name": "ipython",
    "version": 3
   },
   "file_extension": ".py",
   "mimetype": "text/x-python",
   "name": "python",
   "nbconvert_exporter": "python",
   "pygments_lexer": "ipython3",
   "version": "3.6.4"
  }
 },
 "nbformat": 4,
 "nbformat_minor": 2
}
